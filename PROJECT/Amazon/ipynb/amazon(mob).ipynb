{
 "cells": [
  {
   "cell_type": "code",
   "execution_count": 1,
   "id": "87680a24-8e34-4b0f-827d-43265272caf6",
   "metadata": {},
   "outputs": [
    {
     "name": "stdout",
     "output_type": "stream",
     "text": [
      "Requirement already satisfied: pandas in c:\\users\\vedha\\anaconda3\\lib\\site-packages (2.2.2)\n",
      "Requirement already satisfied: openpyxl in c:\\users\\vedha\\anaconda3\\lib\\site-packages (3.1.2)\n",
      "Requirement already satisfied: numpy>=1.26.0 in c:\\users\\vedha\\anaconda3\\lib\\site-packages (from pandas) (1.26.4)\n",
      "Requirement already satisfied: python-dateutil>=2.8.2 in c:\\users\\vedha\\anaconda3\\lib\\site-packages (from pandas) (2.9.0.post0)\n",
      "Requirement already satisfied: pytz>=2020.1 in c:\\users\\vedha\\anaconda3\\lib\\site-packages (from pandas) (2024.1)\n",
      "Requirement already satisfied: tzdata>=2022.7 in c:\\users\\vedha\\anaconda3\\lib\\site-packages (from pandas) (2023.3)\n",
      "Requirement already satisfied: et-xmlfile in c:\\users\\vedha\\anaconda3\\lib\\site-packages (from openpyxl) (1.1.0)\n",
      "Requirement already satisfied: six>=1.5 in c:\\users\\vedha\\anaconda3\\lib\\site-packages (from python-dateutil>=2.8.2->pandas) (1.16.0)\n",
      "Note: you may need to restart the kernel to use updated packages.\n"
     ]
    }
   ],
   "source": [
    "pip install pandas openpyxl"
   ]
  },
  {
   "cell_type": "code",
   "execution_count": 4,
   "id": "929a3a00-736a-4e00-aa56-e36ce11297fc",
   "metadata": {},
   "outputs": [
    {
     "name": "stdout",
     "output_type": "stream",
     "text": [
      "Requirement already satisfied: selenium in c:\\users\\vedha\\anaconda3\\lib\\site-packages (4.24.0)\n",
      "Requirement already satisfied: urllib3<3,>=1.26 in c:\\users\\vedha\\anaconda3\\lib\\site-packages (from urllib3[socks]<3,>=1.26->selenium) (2.2.2)\n",
      "Requirement already satisfied: trio~=0.17 in c:\\users\\vedha\\anaconda3\\lib\\site-packages (from selenium) (0.26.2)\n",
      "Requirement already satisfied: trio-websocket~=0.9 in c:\\users\\vedha\\anaconda3\\lib\\site-packages (from selenium) (0.11.1)\n",
      "Requirement already satisfied: certifi>=2021.10.8 in c:\\users\\vedha\\anaconda3\\lib\\site-packages (from selenium) (2024.6.2)\n",
      "Requirement already satisfied: typing_extensions~=4.9 in c:\\users\\vedha\\anaconda3\\lib\\site-packages (from selenium) (4.11.0)\n",
      "Requirement already satisfied: websocket-client~=1.8 in c:\\users\\vedha\\anaconda3\\lib\\site-packages (from selenium) (1.8.0)\n",
      "Requirement already satisfied: attrs>=23.2.0 in c:\\users\\vedha\\anaconda3\\lib\\site-packages (from trio~=0.17->selenium) (24.2.0)\n",
      "Requirement already satisfied: sortedcontainers in c:\\users\\vedha\\anaconda3\\lib\\site-packages (from trio~=0.17->selenium) (2.4.0)\n",
      "Requirement already satisfied: idna in c:\\users\\vedha\\anaconda3\\lib\\site-packages (from trio~=0.17->selenium) (3.7)\n",
      "Requirement already satisfied: outcome in c:\\users\\vedha\\anaconda3\\lib\\site-packages (from trio~=0.17->selenium) (1.3.0.post0)\n",
      "Requirement already satisfied: sniffio>=1.3.0 in c:\\users\\vedha\\anaconda3\\lib\\site-packages (from trio~=0.17->selenium) (1.3.0)\n",
      "Requirement already satisfied: cffi>=1.14 in c:\\users\\vedha\\anaconda3\\lib\\site-packages (from trio~=0.17->selenium) (1.16.0)\n",
      "Requirement already satisfied: wsproto>=0.14 in c:\\users\\vedha\\anaconda3\\lib\\site-packages (from trio-websocket~=0.9->selenium) (1.2.0)\n",
      "Requirement already satisfied: pysocks!=1.5.7,<2.0,>=1.5.6 in c:\\users\\vedha\\anaconda3\\lib\\site-packages (from urllib3[socks]<3,>=1.26->selenium) (1.7.1)\n",
      "Requirement already satisfied: pycparser in c:\\users\\vedha\\anaconda3\\lib\\site-packages (from cffi>=1.14->trio~=0.17->selenium) (2.21)\n",
      "Requirement already satisfied: h11<1,>=0.9.0 in c:\\users\\vedha\\anaconda3\\lib\\site-packages (from wsproto>=0.14->trio-websocket~=0.9->selenium) (0.14.0)\n",
      "Note: you may need to restart the kernel to use updated packages.\n"
     ]
    }
   ],
   "source": [
    "pip install selenium "
   ]
  },
  {
   "cell_type": "code",
   "execution_count": 5,
   "id": "e2446476-bd69-41e7-b899-1bd5c0c11a68",
   "metadata": {},
   "outputs": [
    {
     "name": "stdout",
     "output_type": "stream",
     "text": [
      "Note: you may need to restart the kernel to use updated packages.\n"
     ]
    },
    {
     "name": "stderr",
     "output_type": "stream",
     "text": [
      "ERROR: Could not find a version that satisfies the requirement webdriver (from versions: none)\n",
      "ERROR: No matching distribution found for webdriver\n"
     ]
    }
   ],
   "source": [
    "pip install webdriver"
   ]
  },
  {
   "cell_type": "code",
   "execution_count": 1,
   "id": "65043f14-34e5-4cac-a56e-714fb7827afe",
   "metadata": {},
   "outputs": [
    {
     "name": "stdout",
     "output_type": "stream",
     "text": [
      "Page 1\n",
      "Page 2\n",
      "Page 3\n",
      "Page 4\n",
      "Page 5\n",
      "Page 6\n",
      "Page 7\n",
      "Page 8\n",
      "Page 9\n",
      "Page 10\n",
      "Page 11\n",
      "Page 12\n",
      "Page 13\n",
      "Page 14\n",
      "Page 15\n",
      "Page 16\n",
      "Page 17\n",
      "Page 18\n",
      "Page 19\n",
      "Page 20\n",
      "Next button is disabled. Exiting.\n",
      "Data saved to amazon_mobile_data0.xlsx\n"
     ]
    }
   ],
   "source": [
    "from selenium import webdriver\n",
    "from selenium.webdriver.common.by import By\n",
    "from selenium.webdriver.chrome.service import Service\n",
    "from webdriver_manager.chrome import ChromeDriverManager\n",
    "from selenium.webdriver.support.ui import WebDriverWait\n",
    "from selenium.webdriver.support import expected_conditions as EC\n",
    "import time\n",
    "import pandas as pd\n",
    "\n",
    "# Set up the WebDriver\n",
    "options = webdriver.ChromeOptions()\n",
    "options.add_argument('--headless')  # Run in headless mode (optional)\n",
    "driver = webdriver.Chrome(service=Service(ChromeDriverManager().install()), options=options)\n",
    "\n",
    "# Start with the first page\n",
    "base_url = 'https://www.amazon.in/s?k=mobile+phone'\n",
    "driver.get(base_url)\n",
    "\n",
    "# Prepare an empty list to collect product details\n",
    "product_data = []\n",
    "\n",
    "def extract_product_details():\n",
    "    products = WebDriverWait(driver, 15).until(\n",
    "        EC.presence_of_all_elements_located((By.CSS_SELECTOR, '.s-main-slot .s-result-item'))\n",
    "    )\n",
    "    for product in products:\n",
    "        product_info = {}\n",
    "        \n",
    "        try:\n",
    "            # Extract title\n",
    "            title_elements = product.find_elements(By.CSS_SELECTOR, 'span.a-size-medium.a-color-base.a-text-normal')\n",
    "            title = title_elements[0].text if title_elements else ''\n",
    "            \n",
    "            # Skip product if no title\n",
    "            if not title:\n",
    "                continue\n",
    "            \n",
    "            # Remove text after the first occurrence of '/' or '-'\n",
    "            if '|' in title:\n",
    "                title = title.split('|')[0].strip()\n",
    "            if '-' in title:\n",
    "                title = title.split('-')[0].strip()\n",
    "                \n",
    "            product_info['Title'] = title\n",
    "        except Exception as e:\n",
    "            continue  # Skip this product if title extraction fails\n",
    "        \n",
    "        try:\n",
    "            # Extract price\n",
    "            price_elements = product.find_elements(By.CSS_SELECTOR, 'span.a-price-whole')\n",
    "            price = price_elements[0].text if price_elements else 'No price'\n",
    "            product_info['Price'] = price\n",
    "        except Exception as e:\n",
    "            product_info['Price'] = 'No price'\n",
    "        \n",
    "        try:\n",
    "            # Extract ratings\n",
    "            rating_elements = product.find_elements(By.CSS_SELECTOR, 'span.a-icon-alt')\n",
    "            rating_text = rating_elements[0].get_attribute(\"innerText\").strip() if rating_elements else 'No rating'\n",
    "            product_info['Rating'] = rating_text\n",
    "        except Exception as e:\n",
    "            product_info['Rating'] = 'No rating'\n",
    "        \n",
    "        try:\n",
    "            # Extract number of reviews\n",
    "            reviews_elements = product.find_elements(By.CSS_SELECTOR, 'span.s-underline-text')\n",
    "            reviews = reviews_elements[0].text if reviews_elements else 'No reviews'\n",
    "            product_info['Reviews'] = reviews\n",
    "        except Exception as e:\n",
    "            product_info['Reviews'] = 'No reviews'\n",
    "\n",
    "        # Append the product info to the list\n",
    "        product_data.append(product_info)\n",
    "\n",
    "# Loop through all pages\n",
    "\n",
    "i=0\n",
    "while True:\n",
    "    extract_product_details()\n",
    "    \n",
    "    # Find the \"Next\" button\n",
    "    i=i+1\n",
    "    print(f\"Page {i}\")\n",
    "    next_button = driver.find_elements(By.CSS_SELECTOR, '.s-pagination-next')\n",
    "    \n",
    "    if not next_button:\n",
    "        print('No \"Next\" button found. Exiting.')\n",
    "        break\n",
    "    \n",
    "    next_button_class = next_button[0].get_attribute('class')\n",
    "    \n",
    "    if 's-pagination-disabled' in next_button_class:\n",
    "        print('Next button is disabled. Exiting.')\n",
    "        break\n",
    "    \n",
    "    # Click the \"Next\" button\n",
    "    next_button[0].click()\n",
    "    \n",
    "    # Wait for the next page to load\n",
    "    time.sleep(10)\n",
    "\n",
    "# Close the driver after scraping\n",
    "driver.quit()\n",
    "\n",
    "# Convert the data into a pandas DataFrame\n",
    "df = pd.DataFrame(product_data)\n",
    "\n",
    "# Save the data to an Excel file\n",
    "df.to_excel('amazon_mobile_data0.xlsx', index=False)\n",
    "\n",
    "print('Data saved to amazon_mobile_data0.xlsx')\n"
   ]
  },
  {
   "cell_type": "code",
   "execution_count": null,
   "id": "b0ac7b8b-737b-4589-9bf5-6030a555a1a6",
   "metadata": {},
   "outputs": [],
   "source": []
  }
 ],
 "metadata": {
  "kernelspec": {
   "display_name": "Python 3 (ipykernel)",
   "language": "python",
   "name": "python3"
  },
  "language_info": {
   "codemirror_mode": {
    "name": "ipython",
    "version": 3
   },
   "file_extension": ".py",
   "mimetype": "text/x-python",
   "name": "python",
   "nbconvert_exporter": "python",
   "pygments_lexer": "ipython3",
   "version": "3.12.4"
  }
 },
 "nbformat": 4,
 "nbformat_minor": 5
}
